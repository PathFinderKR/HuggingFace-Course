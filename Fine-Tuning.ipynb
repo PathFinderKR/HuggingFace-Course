{
 "cells": [
  {
   "cell_type": "markdown",
   "source": [
    "## Login to Hugging Face"
   ],
   "metadata": {
    "collapsed": false
   },
   "id": "7c2f9104252a4bb"
  },
  {
   "cell_type": "code",
   "outputs": [
    {
     "name": "stdout",
     "output_type": "stream",
     "text": [
      "Token is valid (permission: write).\n",
      "Your token has been saved in your configured git credential helpers (store).\n",
      "Your token has been saved to /home/pathfinder/.cache/huggingface/token\n",
      "Login successful\n"
     ]
    }
   ],
   "source": [
    "from dotenv import load_dotenv\n",
    "import os\n",
    "from huggingface_hub import login\n",
    "\n",
    "load_dotenv()\n",
    "token = os.getenv(\"HUGGINGFACE_TOKEN\")\n",
    "login(\n",
    "    token=token, # ADD YOUR TOKEN HERE\n",
    "    add_to_git_credential=True\n",
    ")"
   ],
   "metadata": {
    "collapsed": false,
    "ExecuteTime": {
     "end_time": "2024-04-02T07:51:04.405054Z",
     "start_time": "2024-04-02T07:51:03.873420Z"
    }
   },
   "id": "4eee58c68eb02d85",
   "execution_count": 1
  },
  {
   "cell_type": "code",
   "outputs": [],
   "source": [
    "model_name = \"bert-finetuned-uncased-mrpc\" # ADD YOUR MODEL NAME HERE\n",
    "username = \"PathFinderKR\" # ADD YOUR USERNAME HERE"
   ],
   "metadata": {
    "collapsed": false,
    "ExecuteTime": {
     "end_time": "2024-04-02T07:51:04.409306Z",
     "start_time": "2024-04-02T07:51:04.406663Z"
    }
   },
   "id": "5b12ff613c257255",
   "execution_count": 2
  },
  {
   "cell_type": "code",
   "outputs": [],
   "source": [
    "# hub\n",
    "repo_id = f\"{username}/{model_name}\" # repository id"
   ],
   "metadata": {
    "collapsed": false,
    "ExecuteTime": {
     "end_time": "2024-04-02T07:51:04.416045Z",
     "start_time": "2024-04-02T07:51:04.410643Z"
    }
   },
   "id": "ff50d7ab2688af9e",
   "execution_count": 3
  },
  {
   "cell_type": "markdown",
   "source": [
    "## Downloads"
   ],
   "metadata": {
    "collapsed": false
   },
   "id": "78114e8f78ee19ec"
  },
  {
   "cell_type": "code",
   "outputs": [],
   "source": [
    "#!pip install huggingface_hub\n",
    "#!pip install transformers\n",
    "#!pip install accelerate\n",
    "#!pip install evaluate\n",
    "#!pip install datasets\n",
    "#!pip install scikit-learn"
   ],
   "metadata": {
    "collapsed": false,
    "ExecuteTime": {
     "end_time": "2024-04-02T07:51:04.423186Z",
     "start_time": "2024-04-02T07:51:04.417130Z"
    }
   },
   "id": "ce6454f84604b9e4",
   "execution_count": 4
  },
  {
   "cell_type": "markdown",
   "source": [
    "## Imports"
   ],
   "metadata": {
    "collapsed": false
   },
   "id": "685ac8c0e05ac872"
  },
  {
   "cell_type": "code",
   "outputs": [],
   "source": [
    "import numpy as np\n",
    "\n",
    "# pytorch\n",
    "import torch\n",
    "\n",
    "# huggingface\n",
    "from transformers import (\n",
    "    AutoTokenizer,\n",
    "    AutoModelForSequenceClassification,\n",
    "    TrainingArguments,\n",
    "    Trainer,\n",
    ")\n",
    "import evaluate\n",
    "\n",
    "# datasets\n",
    "from datasets import load_dataset"
   ],
   "metadata": {
    "collapsed": false,
    "ExecuteTime": {
     "end_time": "2024-04-02T07:51:06.582117Z",
     "start_time": "2024-04-02T07:51:04.425051Z"
    }
   },
   "id": "f8c108abcd576306",
   "execution_count": 5
  },
  {
   "cell_type": "markdown",
   "source": [
    "## Device"
   ],
   "metadata": {
    "collapsed": false
   },
   "id": "e512d30c21d105c2"
  },
  {
   "cell_type": "code",
   "outputs": [
    {
     "name": "stdout",
     "output_type": "stream",
     "text": [
      "Device = cuda:0\n"
     ]
    }
   ],
   "source": [
    "device = (\n",
    "    \"cuda:0\" if torch.cuda.is_available() else # Nvidia GPU\n",
    "    \"mps\" if torch.backends.mps.is_available() else # Apple Silicon GPU\n",
    "    \"cpu\"\n",
    ")\n",
    "print(f\"Device = {device}\")"
   ],
   "metadata": {
    "collapsed": false,
    "ExecuteTime": {
     "end_time": "2024-04-02T07:51:06.586259Z",
     "start_time": "2024-04-02T07:51:06.583431Z"
    }
   },
   "id": "fdf3a2a4e0e31554",
   "execution_count": 6
  },
  {
   "cell_type": "markdown",
   "source": [
    "## Hyperparameters"
   ],
   "metadata": {
    "collapsed": false
   },
   "id": "84ce31a12e172a64"
  },
  {
   "cell_type": "code",
   "outputs": [],
   "source": [
    "# mixed precision\n",
    "dtype = torch.bfloat16\n",
    "\n",
    "# training arguments\n",
    "training_args = TrainingArguments(\n",
    "    output_dir=\"./results\",\n",
    "    logging_dir=\"./logs\",\n",
    "    save_strategy=\"epoch\",\n",
    "    logging_strategy=\"epoch\",\n",
    "    evaluation_strategy=\"epoch\",\n",
    "    metric_for_best_model=\"accuracy\",\n",
    "    save_total_limit=2,\n",
    "    greater_is_better=True,\n",
    "    load_best_model_at_end=True,\n",
    "    \n",
    "    learning_rate=2e-5,\n",
    "    num_train_epochs=5,\n",
    "    per_device_train_batch_size=8,\n",
    "    per_device_eval_batch_size=8,\n",
    "    optim=\"adamw_torch\",\n",
    "    weight_decay=0.1,\n",
    "    lr_scheduler_type=\"cosine\",\n",
    "    warmup_ratio=0.1,\n",
    "    warmup_steps=100,\n",
    "    seed=42\n",
    ")"
   ],
   "metadata": {
    "collapsed": false,
    "ExecuteTime": {
     "end_time": "2024-04-02T07:51:06.597992Z",
     "start_time": "2024-04-02T07:51:06.587416Z"
    }
   },
   "id": "bcd609026bde7d0c",
   "execution_count": 7
  },
  {
   "cell_type": "markdown",
   "source": [
    "## Model"
   ],
   "metadata": {
    "collapsed": false
   },
   "id": "f5d3b7c47ea29a3d"
  },
  {
   "cell_type": "code",
   "outputs": [],
   "source": [
    "model_id = \"google-bert/bert-base-uncased\""
   ],
   "metadata": {
    "collapsed": false,
    "ExecuteTime": {
     "end_time": "2024-04-02T07:51:06.601548Z",
     "start_time": "2024-04-02T07:51:06.599132Z"
    }
   },
   "id": "7ce00b6b2fd2b4c3",
   "execution_count": 8
  },
  {
   "cell_type": "code",
   "outputs": [
    {
     "name": "stderr",
     "output_type": "stream",
     "text": [
      "Some weights of BertForSequenceClassification were not initialized from the model checkpoint at google-bert/bert-base-uncased and are newly initialized: ['classifier.bias', 'classifier.weight']\n",
      "You should probably TRAIN this model on a down-stream task to be able to use it for predictions and inference.\n"
     ]
    }
   ],
   "source": [
    "tokenizer = AutoTokenizer.from_pretrained(model_id)\n",
    "model = AutoModelForSequenceClassification.from_pretrained(\n",
    "    model_id,\n",
    "    num_labels=2,\n",
    "    device_map=device,\n",
    "    #attn_implementation=\"flash_attention_2\", # not supported\n",
    "    torch_dtype=dtype\n",
    ")"
   ],
   "metadata": {
    "collapsed": false,
    "ExecuteTime": {
     "end_time": "2024-04-02T07:51:07.424759Z",
     "start_time": "2024-04-02T07:51:06.602855Z"
    }
   },
   "id": "eb8160d8919cdaeb",
   "execution_count": 9
  },
  {
   "cell_type": "markdown",
   "source": [
    "## Dataset"
   ],
   "metadata": {
    "collapsed": false
   },
   "id": "a4042d4b7cd2d0fd"
  },
  {
   "cell_type": "code",
   "outputs": [],
   "source": [
    "# raw dataset\n",
    "raw_dataset = load_dataset(\"glue\", \"mrpc\")"
   ],
   "metadata": {
    "collapsed": false,
    "ExecuteTime": {
     "end_time": "2024-04-02T07:51:19.418293Z",
     "start_time": "2024-04-02T07:51:07.425941Z"
    }
   },
   "id": "6a3537293c11075e",
   "execution_count": 10
  },
  {
   "cell_type": "code",
   "outputs": [
    {
     "data": {
      "text/plain": "DatasetDict({\n    train: Dataset({\n        features: ['sentence1', 'sentence2', 'label', 'idx'],\n        num_rows: 3668\n    })\n    validation: Dataset({\n        features: ['sentence1', 'sentence2', 'label', 'idx'],\n        num_rows: 408\n    })\n    test: Dataset({\n        features: ['sentence1', 'sentence2', 'label', 'idx'],\n        num_rows: 1725\n    })\n})"
     },
     "execution_count": 11,
     "metadata": {},
     "output_type": "execute_result"
    }
   ],
   "source": [
    "raw_dataset"
   ],
   "metadata": {
    "collapsed": false,
    "ExecuteTime": {
     "end_time": "2024-04-02T07:51:19.422851Z",
     "start_time": "2024-04-02T07:51:19.419222Z"
    }
   },
   "id": "688a7ec8eb48bd51",
   "execution_count": 11
  },
  {
   "cell_type": "code",
   "outputs": [
    {
     "data": {
      "text/plain": "{'sentence1': 'Amrozi accused his brother , whom he called \" the witness \" , of deliberately distorting his evidence .',\n 'sentence2': 'Referring to him as only \" the witness \" , Amrozi accused his brother of deliberately distorting his evidence .',\n 'label': 1,\n 'idx': 0}"
     },
     "execution_count": 12,
     "metadata": {},
     "output_type": "execute_result"
    }
   ],
   "source": [
    "raw_dataset[\"train\"][0]"
   ],
   "metadata": {
    "collapsed": false,
    "ExecuteTime": {
     "end_time": "2024-04-02T07:51:19.435329Z",
     "start_time": "2024-04-02T07:51:19.423839Z"
    }
   },
   "id": "5a01fdf74489d4ec",
   "execution_count": 12
  },
  {
   "cell_type": "code",
   "outputs": [],
   "source": [
    "# tokenized dataset\n",
    "def tokenize_function(example):\n",
    "    return tokenizer(example[\"sentence1\"], example[\"sentence2\"], truncation=True)\n",
    "\n",
    "tokenized_datasets = raw_dataset.map(tokenize_function, batched=True)"
   ],
   "metadata": {
    "collapsed": false,
    "ExecuteTime": {
     "end_time": "2024-04-02T07:51:19.458140Z",
     "start_time": "2024-04-02T07:51:19.436345Z"
    }
   },
   "id": "d279d674908f4acf",
   "execution_count": 13
  },
  {
   "cell_type": "code",
   "outputs": [
    {
     "data": {
      "text/plain": "'\\ntokenized_dataset = tokenizer(\\n    raw_datasets[\"train\"][\"sentence1\"],\\n    raw_datasets[\"train\"][\"sentence2\"],\\n    padding=True,\\n    truncation=True,\\n)\\n'"
     },
     "execution_count": 14,
     "metadata": {},
     "output_type": "execute_result"
    }
   ],
   "source": [
    "\"\"\"\n",
    "tokenized_dataset = tokenizer(\n",
    "    raw_datasets[\"train\"][\"sentence1\"],\n",
    "    raw_datasets[\"train\"][\"sentence2\"],\n",
    "    padding=True,\n",
    "    truncation=True,\n",
    ")\n",
    "\"\"\""
   ],
   "metadata": {
    "collapsed": false,
    "ExecuteTime": {
     "end_time": "2024-04-02T07:51:19.465973Z",
     "start_time": "2024-04-02T07:51:19.459856Z"
    }
   },
   "id": "b7963e5c6a0b1898",
   "execution_count": 14
  },
  {
   "cell_type": "code",
   "outputs": [
    {
     "data": {
      "text/plain": "DatasetDict({\n    train: Dataset({\n        features: ['sentence1', 'sentence2', 'label', 'idx', 'input_ids', 'token_type_ids', 'attention_mask'],\n        num_rows: 3668\n    })\n    validation: Dataset({\n        features: ['sentence1', 'sentence2', 'label', 'idx', 'input_ids', 'token_type_ids', 'attention_mask'],\n        num_rows: 408\n    })\n    test: Dataset({\n        features: ['sentence1', 'sentence2', 'label', 'idx', 'input_ids', 'token_type_ids', 'attention_mask'],\n        num_rows: 1725\n    })\n})"
     },
     "execution_count": 15,
     "metadata": {},
     "output_type": "execute_result"
    }
   ],
   "source": [
    "tokenized_datasets"
   ],
   "metadata": {
    "collapsed": false,
    "ExecuteTime": {
     "end_time": "2024-04-02T07:51:19.474919Z",
     "start_time": "2024-04-02T07:51:19.466901Z"
    }
   },
   "id": "2d92c907f6a1abeb",
   "execution_count": 15
  },
  {
   "cell_type": "markdown",
   "source": [
    "## Inference"
   ],
   "metadata": {
    "collapsed": false
   },
   "id": "e704bd922694474d"
  },
  {
   "cell_type": "code",
   "outputs": [],
   "source": [
    "def compute_metrics(eval_preds):\n",
    "    metric = evaluate.load(\"glue\", \"mrpc\")\n",
    "    logits, labels = eval_preds\n",
    "    predictions = np.argmax(logits, axis=-1)\n",
    "    return metric.compute(predictions=predictions, references=labels)"
   ],
   "metadata": {
    "collapsed": false,
    "ExecuteTime": {
     "end_time": "2024-04-02T07:51:19.485060Z",
     "start_time": "2024-04-02T07:51:19.475856Z"
    }
   },
   "id": "c56136c778e636cb",
   "execution_count": 16
  },
  {
   "cell_type": "code",
   "outputs": [
    {
     "name": "stderr",
     "output_type": "stream",
     "text": [
      "/home/pathfinder/anaconda3/envs/torch-env/lib/python3.11/site-packages/accelerate/accelerator.py:432: FutureWarning: Passing the following arguments to `Accelerator` is deprecated and will be removed in version 1.0 of Accelerate: dict_keys(['dispatch_batches', 'split_batches', 'even_batches', 'use_seedable_sampler']). Please pass an `accelerate.DataLoaderConfiguration` instead: \n",
      "dataloader_config = DataLoaderConfiguration(dispatch_batches=None, split_batches=False, even_batches=True, use_seedable_sampler=True)\n",
      "  warnings.warn(\n"
     ]
    }
   ],
   "source": [
    "trainer = Trainer(\n",
    "    model=model,\n",
    "    tokenizer=tokenizer,\n",
    "    args=training_args,\n",
    "    train_dataset=tokenized_datasets[\"train\"],\n",
    "    eval_dataset=tokenized_datasets[\"validation\"],\n",
    "    compute_metrics=compute_metrics\n",
    ")"
   ],
   "metadata": {
    "collapsed": false,
    "ExecuteTime": {
     "end_time": "2024-04-02T07:51:19.502596Z",
     "start_time": "2024-04-02T07:51:19.486113Z"
    }
   },
   "id": "156f88a54e4a3973",
   "execution_count": 17
  },
  {
   "cell_type": "code",
   "outputs": [
    {
     "data": {
      "text/plain": "<IPython.core.display.HTML object>",
      "text/html": "\n    <div>\n      \n      <progress value='51' max='51' style='width:300px; height:20px; vertical-align: middle;'></progress>\n      [51/51 00:00]\n    </div>\n    "
     },
     "metadata": {},
     "output_type": "display_data"
    },
    {
     "data": {
      "text/plain": "{'eval_loss': 0.822150707244873,\n 'eval_accuracy': 0.3161764705882353,\n 'eval_f1': 0.0,\n 'eval_runtime': 1.9397,\n 'eval_samples_per_second': 210.342,\n 'eval_steps_per_second': 26.293}"
     },
     "execution_count": 18,
     "metadata": {},
     "output_type": "execute_result"
    }
   ],
   "source": [
    "trainer.evaluate()"
   ],
   "metadata": {
    "collapsed": false,
    "ExecuteTime": {
     "end_time": "2024-04-02T07:51:21.451888Z",
     "start_time": "2024-04-02T07:51:19.503571Z"
    }
   },
   "id": "59da4b79add0fd3a",
   "execution_count": 18
  },
  {
   "cell_type": "markdown",
   "source": [
    "## Fine-Tuning"
   ],
   "metadata": {
    "collapsed": false
   },
   "id": "14d215c6c8a5ff0c"
  },
  {
   "cell_type": "code",
   "outputs": [
    {
     "data": {
      "text/plain": "<IPython.core.display.HTML object>",
      "text/html": "\n    <div>\n      \n      <progress value='2295' max='2295' style='width:300px; height:20px; vertical-align: middle;'></progress>\n      [2295/2295 01:46, Epoch 5/5]\n    </div>\n    <table border=\"1\" class=\"dataframe\">\n  <thead>\n <tr style=\"text-align: left;\">\n      <th>Epoch</th>\n      <th>Training Loss</th>\n      <th>Validation Loss</th>\n      <th>Accuracy</th>\n      <th>F1</th>\n    </tr>\n  </thead>\n  <tbody>\n    <tr>\n      <td>1</td>\n      <td>0.634700</td>\n      <td>0.538067</td>\n      <td>0.720588</td>\n      <td>0.828313</td>\n    </tr>\n    <tr>\n      <td>2</td>\n      <td>0.535700</td>\n      <td>0.510627</td>\n      <td>0.757353</td>\n      <td>0.838499</td>\n    </tr>\n    <tr>\n      <td>3</td>\n      <td>0.499600</td>\n      <td>0.512695</td>\n      <td>0.750000</td>\n      <td>0.836013</td>\n    </tr>\n    <tr>\n      <td>4</td>\n      <td>0.497500</td>\n      <td>0.513212</td>\n      <td>0.752451</td>\n      <td>0.837359</td>\n    </tr>\n    <tr>\n      <td>5</td>\n      <td>0.490700</td>\n      <td>0.513691</td>\n      <td>0.754902</td>\n      <td>0.839228</td>\n    </tr>\n  </tbody>\n</table><p>"
     },
     "metadata": {},
     "output_type": "display_data"
    },
    {
     "data": {
      "text/plain": "TrainOutput(global_step=2295, training_loss=0.5316384974128541, metrics={'train_runtime': 107.0592, 'train_samples_per_second': 171.307, 'train_steps_per_second': 21.437, 'total_flos': 675891190117440.0, 'train_loss': 0.5316384974128541, 'epoch': 5.0})"
     },
     "execution_count": 19,
     "metadata": {},
     "output_type": "execute_result"
    }
   ],
   "source": [
    "trainer.train()"
   ],
   "metadata": {
    "collapsed": false,
    "ExecuteTime": {
     "end_time": "2024-04-02T07:53:08.657612Z",
     "start_time": "2024-04-02T07:51:21.452794Z"
    }
   },
   "id": "4c2f6c5a804306f",
   "execution_count": 19
  },
  {
   "cell_type": "markdown",
   "source": [
    "## Push to Hub"
   ],
   "metadata": {
    "collapsed": false
   },
   "id": "2dc86d43ae1fe1c7"
  },
  {
   "cell_type": "code",
   "outputs": [
    {
     "data": {
      "text/plain": "model.safetensors:   0%|          | 0.00/219M [00:00<?, ?B/s]",
      "application/vnd.jupyter.widget-view+json": {
       "version_major": 2,
       "version_minor": 0,
       "model_id": "4a83edfa45344ce8af92e1689fef59f4"
      }
     },
     "metadata": {},
     "output_type": "display_data"
    },
    {
     "data": {
      "text/plain": "CommitInfo(commit_url='https://huggingface.co/PathFinderKR/bert-finetuned-uncased-mrpc/commit/f4bdee8ad374ed48ae134da1c41a83befbcb46e3', commit_message='Upload BertForSequenceClassification', commit_description='', oid='f4bdee8ad374ed48ae134da1c41a83befbcb46e3', pr_url=None, pr_revision=None, pr_num=None)"
     },
     "execution_count": 20,
     "metadata": {},
     "output_type": "execute_result"
    }
   ],
   "source": [
    "tokenizer.push_to_hub(\n",
    "    repo_id=repo_id,\n",
    ")\n",
    "model.push_to_hub(\n",
    "    repo_id=repo_id,\n",
    ")"
   ],
   "metadata": {
    "collapsed": false,
    "ExecuteTime": {
     "end_time": "2024-04-02T07:53:50.514749Z",
     "start_time": "2024-04-02T07:53:08.658599Z"
    }
   },
   "id": "a9f538203289d34e",
   "execution_count": 20
  }
 ],
 "metadata": {
  "kernelspec": {
   "display_name": "Python 3",
   "language": "python",
   "name": "python3"
  },
  "language_info": {
   "codemirror_mode": {
    "name": "ipython",
    "version": 2
   },
   "file_extension": ".py",
   "mimetype": "text/x-python",
   "name": "python",
   "nbconvert_exporter": "python",
   "pygments_lexer": "ipython2",
   "version": "2.7.6"
  }
 },
 "nbformat": 4,
 "nbformat_minor": 5
}
