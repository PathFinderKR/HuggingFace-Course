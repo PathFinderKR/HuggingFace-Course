{
 "cells": [
  {
   "metadata": {},
   "cell_type": "markdown",
   "source": "## Login to Hugging Face",
   "id": "797f4102127e00e6"
  },
  {
   "cell_type": "code",
   "id": "initial_id",
   "metadata": {
    "collapsed": true,
    "ExecuteTime": {
     "end_time": "2024-04-17T12:38:32.542183Z",
     "start_time": "2024-04-17T12:38:32.292306Z"
    }
   },
   "source": [
    "from dotenv import load_dotenv\n",
    "import os\n",
    "from huggingface_hub import login\n",
    "\n",
    "load_dotenv()\n",
    "token = os.getenv(\"HUGGINGFACE_TOKEN\")\n",
    "login(\n",
    "    token=token, # ADD YOUR TOKEN HERE\n",
    "    add_to_git_credential=True\n",
    ")"
   ],
   "outputs": [
    {
     "name": "stdout",
     "output_type": "stream",
     "text": [
      "Token is valid (permission: write).\n",
      "Your token has been saved in your configured git credential helpers (store).\n",
      "Your token has been saved to /home/pathfinder/.cache/huggingface/token\n",
      "Login successful\n"
     ]
    }
   ],
   "execution_count": 10
  },
  {
   "metadata": {},
   "cell_type": "markdown",
   "source": "## Imports",
   "id": "61ec14f553048963"
  },
  {
   "metadata": {
    "ExecuteTime": {
     "end_time": "2024-04-17T12:38:32.546033Z",
     "start_time": "2024-04-17T12:38:32.543322Z"
    }
   },
   "cell_type": "code",
   "source": [
    "import numpy as np\n",
    "\n",
    "# pytorch\n",
    "import torch\n",
    "\n",
    "# huggingface\n",
    "from transformers import (\n",
    "    AutoTokenizer,\n",
    "    AutoModelForSequenceClassification,\n",
    "    TrainingArguments,\n",
    "    Trainer\n",
    ")\n",
    "import evaluate\n",
    "\n",
    "# datasets\n",
    "from datasets import load_dataset"
   ],
   "id": "6a9cb849a46ac08d",
   "outputs": [],
   "execution_count": 11
  },
  {
   "metadata": {},
   "cell_type": "markdown",
   "source": "## Device",
   "id": "5578567d9ded9247"
  },
  {
   "metadata": {
    "ExecuteTime": {
     "end_time": "2024-04-17T12:38:32.553212Z",
     "start_time": "2024-04-17T12:38:32.546963Z"
    }
   },
   "cell_type": "code",
   "source": [
    "device = (\n",
    "    \"cuda:0\" if torch.cuda.is_available() else # Nvidia GPU\n",
    "    \"mps\" if torch.backends.mps.is_available() else # Apple Silicon GPU\n",
    "    \"cpu\"\n",
    ")\n",
    "print(f\"Device = {device}\")"
   ],
   "id": "216ee88d553a7aba",
   "outputs": [
    {
     "name": "stdout",
     "output_type": "stream",
     "text": [
      "Device = cuda:0\n"
     ]
    }
   ],
   "execution_count": 12
  },
  {
   "metadata": {},
   "cell_type": "markdown",
   "source": "## Tokenizer",
   "id": "ad4391a1fba6b2f6"
  },
  {
   "metadata": {
    "ExecuteTime": {
     "end_time": "2024-04-17T12:38:32.918015Z",
     "start_time": "2024-04-17T12:38:32.554692Z"
    }
   },
   "cell_type": "code",
   "source": "tokenizer = AutoTokenizer.from_pretrained(\"gpt2\")",
   "id": "9b665da98abfefb5",
   "outputs": [],
   "execution_count": 13
  },
  {
   "metadata": {},
   "cell_type": "markdown",
   "source": "## Dataset",
   "id": "7a56b92845d0cfa"
  },
  {
   "metadata": {
    "ExecuteTime": {
     "end_time": "2024-04-17T12:38:35.699947Z",
     "start_time": "2024-04-17T12:38:32.918900Z"
    }
   },
   "cell_type": "code",
   "source": "raw_dataset = load_dataset(\"code_search_net\", \"python\")",
   "id": "cf1553d324829e2f",
   "outputs": [
    {
     "name": "stderr",
     "output_type": "stream",
     "text": [
      "/home/pathfinder/anaconda3/envs/torch-env/lib/python3.11/site-packages/datasets/load.py:1461: FutureWarning: The repository for code_search_net contains custom code which must be executed to correctly load the dataset. You can inspect the repository content at https://hf.co/datasets/code_search_net\n",
      "You can avoid this message in future by passing the argument `trust_remote_code=True`.\n",
      "Passing `trust_remote_code=True` will be mandatory to load this dataset from the next major release of `datasets`.\n",
      "  warnings.warn(\n"
     ]
    }
   ],
   "execution_count": 14
  },
  {
   "metadata": {
    "ExecuteTime": {
     "end_time": "2024-04-17T12:38:35.704141Z",
     "start_time": "2024-04-17T12:38:35.700838Z"
    }
   },
   "cell_type": "code",
   "source": "raw_dataset[\"train\"]",
   "id": "e3534a12a680aaba",
   "outputs": [
    {
     "data": {
      "text/plain": [
       "Dataset({\n",
       "    features: ['repository_name', 'func_path_in_repository', 'func_name', 'whole_func_string', 'language', 'func_code_string', 'func_code_tokens', 'func_documentation_string', 'func_documentation_tokens', 'split_name', 'func_code_url'],\n",
       "    num_rows: 412178\n",
       "})"
      ]
     },
     "execution_count": 15,
     "metadata": {},
     "output_type": "execute_result"
    }
   ],
   "execution_count": 15
  },
  {
   "metadata": {
    "ExecuteTime": {
     "end_time": "2024-04-17T12:38:35.713215Z",
     "start_time": "2024-04-17T12:38:35.705078Z"
    }
   },
   "cell_type": "code",
   "source": "print(raw_dataset[\"train\"][0][\"whole_func_string\"])",
   "id": "d0fa17e527bfaeeb",
   "outputs": [
    {
     "name": "stdout",
     "output_type": "stream",
     "text": [
      "def __msgc_step3_discontinuity_localization(self):\n",
      "        \"\"\"\n",
      "        Estimate discontinuity in basis of low resolution image segmentation.\n",
      "        :return: discontinuity in low resolution\n",
      "        \"\"\"\n",
      "        import scipy\n",
      "\n",
      "        start = self._start_time\n",
      "        seg = 1 - self.segmentation.astype(np.int8)\n",
      "        self.stats[\"low level object voxels\"] = np.sum(seg)\n",
      "        self.stats[\"low level image voxels\"] = np.prod(seg.shape)\n",
      "        # in seg is now stored low resolution segmentation\n",
      "        # back to normal parameters\n",
      "        # step 2: discontinuity localization\n",
      "        # self.segparams = sparams_hi\n",
      "        seg_border = scipy.ndimage.filters.laplace(seg, mode=\"constant\")\n",
      "        logger.debug(\"seg_border: %s\", scipy.stats.describe(seg_border, axis=None))\n",
      "        # logger.debug(str(np.max(seg_border)))\n",
      "        # logger.debug(str(np.min(seg_border)))\n",
      "        seg_border[seg_border != 0] = 1\n",
      "        logger.debug(\"seg_border: %s\", scipy.stats.describe(seg_border, axis=None))\n",
      "        # scipy.ndimage.morphology.distance_transform_edt\n",
      "        boundary_dilatation_distance = self.segparams[\"boundary_dilatation_distance\"]\n",
      "        seg = scipy.ndimage.morphology.binary_dilation(\n",
      "            seg_border,\n",
      "            # seg,\n",
      "            np.ones(\n",
      "                [\n",
      "                    (boundary_dilatation_distance * 2) + 1,\n",
      "                    (boundary_dilatation_distance * 2) + 1,\n",
      "                    (boundary_dilatation_distance * 2) + 1,\n",
      "                ]\n",
      "            ),\n",
      "        )\n",
      "        if self.keep_temp_properties:\n",
      "            self.temp_msgc_lowres_discontinuity = seg\n",
      "        else:\n",
      "            self.temp_msgc_lowres_discontinuity = None\n",
      "\n",
      "        if self.debug_images:\n",
      "            import sed3\n",
      "\n",
      "            pd = sed3.sed3(seg_border)  # ), contour=seg)\n",
      "            pd.show()\n",
      "            pd = sed3.sed3(seg)  # ), contour=seg)\n",
      "            pd.show()\n",
      "        # segzoom = scipy.ndimage.interpolation.zoom(seg.astype('float'), zoom,\n",
      "        #                                                order=0).astype('int8')\n",
      "        self.stats[\"t3\"] = time.time() - start\n",
      "        return seg\n"
     ]
    }
   ],
   "execution_count": 16
  },
  {
   "metadata": {
    "ExecuteTime": {
     "end_time": "2024-04-17T12:38:35.720319Z",
     "start_time": "2024-04-17T12:38:35.714278Z"
    }
   },
   "cell_type": "code",
   "source": [
    "def get_training_corpus():\n",
    "    return (\n",
    "        raw_dataset[\"train\"][i : i + 1000][\"whole_func_string\"]\n",
    "        for i in range(0, len(raw_dataset[\"train\"]), 1000)\n",
    "    )\n",
    "\n",
    "training_corpus = get_training_corpus()"
   ],
   "id": "9f7e10331c880d62",
   "outputs": [],
   "execution_count": 17
  },
  {
   "metadata": {},
   "cell_type": "markdown",
   "source": "## Inference before training",
   "id": "95c832736cb02280"
  },
  {
   "metadata": {
    "ExecuteTime": {
     "end_time": "2024-04-17T12:38:35.728827Z",
     "start_time": "2024-04-17T12:38:35.721628Z"
    }
   },
   "cell_type": "code",
   "source": [
    "example = '''\n",
    "def add_numbers(a, b):\n",
    "    \"\"\"Add the two numbers `a` and `b`.\"\"\"\n",
    "    return a + b\n",
    "'''\n",
    "\n",
    "tokens = tokenizer.tokenize(example)\n",
    "tokens"
   ],
   "id": "765a6760aed4b16b",
   "outputs": [
    {
     "data": {
      "text/plain": [
       "['Ċ',\n",
       " 'def',\n",
       " 'Ġadd',\n",
       " '_',\n",
       " 'n',\n",
       " 'umbers',\n",
       " '(',\n",
       " 'a',\n",
       " ',',\n",
       " 'Ġb',\n",
       " '):',\n",
       " 'Ċ',\n",
       " 'Ġ',\n",
       " 'Ġ',\n",
       " 'Ġ',\n",
       " 'Ġ\"\"\"',\n",
       " 'Add',\n",
       " 'Ġthe',\n",
       " 'Ġtwo',\n",
       " 'Ġnumbers',\n",
       " 'Ġ`',\n",
       " 'a',\n",
       " '`',\n",
       " 'Ġand',\n",
       " 'Ġ`',\n",
       " 'b',\n",
       " '`',\n",
       " '.\"',\n",
       " '\"\"',\n",
       " 'Ċ',\n",
       " 'Ġ',\n",
       " 'Ġ',\n",
       " 'Ġ',\n",
       " 'Ġreturn',\n",
       " 'Ġa',\n",
       " 'Ġ+',\n",
       " 'Ġb',\n",
       " 'Ċ']"
      ]
     },
     "execution_count": 18,
     "metadata": {},
     "output_type": "execute_result"
    }
   ],
   "execution_count": 18
  },
  {
   "metadata": {},
   "cell_type": "markdown",
   "source": "https://tiktokenizer.vercel.app/?encoder=gpt2",
   "id": "9d799e9ae002aa99"
  },
  {
   "metadata": {
    "ExecuteTime": {
     "end_time": "2024-04-17T12:38:35.732153Z",
     "start_time": "2024-04-17T12:38:35.730501Z"
    }
   },
   "cell_type": "code",
   "source": "",
   "id": "83f0d018c0f287c9",
   "outputs": [],
   "execution_count": 18
  }
 ],
 "metadata": {
  "kernelspec": {
   "display_name": "Python 3",
   "language": "python",
   "name": "python3"
  },
  "language_info": {
   "codemirror_mode": {
    "name": "ipython",
    "version": 2
   },
   "file_extension": ".py",
   "mimetype": "text/x-python",
   "name": "python",
   "nbconvert_exporter": "python",
   "pygments_lexer": "ipython2",
   "version": "2.7.6"
  }
 },
 "nbformat": 4,
 "nbformat_minor": 5
}
