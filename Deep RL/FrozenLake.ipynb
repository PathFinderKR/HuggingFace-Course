{
 "cells": [
  {
   "metadata": {},
   "cell_type": "markdown",
   "source": "## Login to Hugging Face",
   "id": "8f51e396bf144ed6"
  },
  {
   "cell_type": "code",
   "id": "initial_id",
   "metadata": {
    "collapsed": true,
    "ExecuteTime": {
     "end_time": "2024-04-12T00:44:46.537224Z",
     "start_time": "2024-04-12T00:44:46.020064Z"
    }
   },
   "source": [
    "from dotenv import load_dotenv\n",
    "import os\n",
    "from huggingface_hub import login\n",
    "\n",
    "load_dotenv()\n",
    "token = os.getenv(\"HUGGINGFACE_TOKEN\")\n",
    "login(\n",
    "    token=token, # ADD YOUR TOKEN HERE\n",
    "    add_to_git_credential=True\n",
    ")"
   ],
   "outputs": [
    {
     "name": "stdout",
     "output_type": "stream",
     "text": [
      "Token is valid (permission: write).\n",
      "Your token has been saved in your configured git credential helpers (store).\n",
      "Your token has been saved to /home/pathfinder/.cache/huggingface/token\n",
      "Login successful\n"
     ]
    }
   ],
   "execution_count": 1
  },
  {
   "metadata": {
    "ExecuteTime": {
     "end_time": "2024-04-12T00:44:46.540561Z",
     "start_time": "2024-04-12T00:44:46.538416Z"
    }
   },
   "cell_type": "code",
   "source": [
    "model_architecture = \"Q-Learning\" # ADD YOUR MODEL ARCHITECTURE HERE\n",
    "env_id = \"FrozenLake-v1\" # ADD YOUR ENVIRONMENT ID HERE\n",
    "username = \"PathFinderKR\" # ADD YOUR USERNAME HERE\n",
    "repo_id = f\"{username}/{model_architecture}-{env_id}\" # repository id\n",
    "fps = 30 # frames per second"
   ],
   "id": "5db4126da7836636",
   "outputs": [],
   "execution_count": 2
  },
  {
   "metadata": {},
   "cell_type": "markdown",
   "source": "## Imports",
   "id": "3ac65f0467cb39d3"
  },
  {
   "metadata": {
    "ExecuteTime": {
     "end_time": "2024-04-12T00:44:50.555924Z",
     "start_time": "2024-04-12T00:44:46.541381Z"
    }
   },
   "cell_type": "code",
   "source": [
    "import numpy as np\n",
    "import random\n",
    "import tqdm\n",
    "\n",
    "# video\n",
    "import imageio\n",
    "\n",
    "# Hugging Face\n",
    "from huggingface_sb3 import package_to_hub\n",
    "\n",
    "# gymnasium\n",
    "import gymnasium as gym\n",
    "\n",
    "# stable-baselines3\n",
    "from stable_baselines3.common.vec_env import DummyVecEnv\n",
    "from stable_baselines3.common.monitor import Monitor"
   ],
   "id": "bcf734c919694efe",
   "outputs": [],
   "execution_count": 3
  },
  {
   "metadata": {},
   "cell_type": "markdown",
   "source": "## Before Training",
   "id": "1f78ce78e3ea8568"
  },
  {
   "metadata": {
    "ExecuteTime": {
     "end_time": "2024-04-12T00:44:50.572415Z",
     "start_time": "2024-04-12T00:44:50.556976Z"
    }
   },
   "cell_type": "code",
   "source": [
    "# Create a LunarLander environment\n",
    "env = gym.make(env_id, map_name=\"4x4\", is_slippery=False, render_mode=\"rgb_array\")\n",
    "\n",
    "print(\"_____OBSERVATION SPACE_____ \\n\")\n",
    "print(\"Observation Space Shape\", env.observation_space.shape)\n",
    "print(\"Sample observation\", env.observation_space.sample())  # Get a random observation\n",
    "\n",
    "print(\"\\n _____ACTION SPACE_____ \\n\")\n",
    "print(\"Action Space Shape\", env.action_space.n)\n",
    "print(\"Action Space Sample\", env.action_space.sample())  # Take a random action"
   ],
   "id": "a8f52a1d029679bb",
   "outputs": [
    {
     "name": "stdout",
     "output_type": "stream",
     "text": [
      "_____OBSERVATION SPACE_____ \n",
      "\n",
      "Observation Space Shape ()\n",
      "Sample observation 10\n",
      "\n",
      " _____ACTION SPACE_____ \n",
      "\n",
      "Action Space Shape 4\n",
      "Action Space Sample 3\n"
     ]
    }
   ],
   "execution_count": 4
  },
  {
   "metadata": {
    "ExecuteTime": {
     "end_time": "2024-04-12T00:44:51.486872Z",
     "start_time": "2024-04-12T00:44:50.575537Z"
    }
   },
   "cell_type": "code",
   "source": [
    "# Reset the environment\n",
    "observation, info = env.reset()\n",
    "\n",
    "frames = []\n",
    "for _ in range (100):\n",
    "    frames.append(env.render()) # Render the environment\n",
    "    \n",
    "    # Take a random actions\n",
    "    action = env.action_space.sample()\n",
    "    #print(f\"Action: {action}\")\n",
    "    \n",
    "    # Do this action in the environment and get\n",
    "    # next_state, reward, terminated, truncated and info\n",
    "    observation, reward, terminated, truncated, info = env.step(action)\n",
    "    #print(f\"Reward: {reward}\")\n",
    "\n",
    "    # If the game is terminated (in our case we land, crashed) or truncated (timeout)\n",
    "    if terminated or truncated:\n",
    "        # Reset the environment\n",
    "        #print(\"Game terminated. Resetting the environment\")\n",
    "        observation, info = env.reset()\n",
    "        \n",
    "env.close()\n",
    "\n",
    "video_path = f\"{env_id}-sample.mp4\"\n",
    "imageio.mimsave(video_path, frames, fps=fps)  # Save frames as video"
   ],
   "id": "e358f1816d87fe46",
   "outputs": [],
   "execution_count": 5
  },
  {
   "metadata": {},
   "cell_type": "markdown",
   "source": "## Hyperparameters",
   "id": "23217300bcc70009"
  },
  {
   "metadata": {
    "ExecuteTime": {
     "end_time": "2024-04-12T00:44:51.490858Z",
     "start_time": "2024-04-12T00:44:51.488225Z"
    }
   },
   "cell_type": "code",
   "source": [
    "# Training parameters\n",
    "n_training_episodes = 10000  # Total training episodes\n",
    "learning_rate = 0.7  # Learning rate\n",
    "\n",
    "# Evaluation parameters\n",
    "n_eval_episodes = 100  # Total number of test episodes\n",
    "\n",
    "# Environment parameters\n",
    "max_steps = 99  # Max steps per episode\n",
    "gamma = 0.95  # Discounting rate\n",
    "eval_seed = []  # The evaluation seed of the environment\n",
    "\n",
    "# Exploration parameters\n",
    "max_epsilon = 1.0  # Exploration probability at start\n",
    "min_epsilon = 0.05  # Minimum exploration probability\n",
    "decay_rate = 0.0005  # Exponential decay rate for exploration prob"
   ],
   "id": "dd66d9206e3f29",
   "outputs": [],
   "execution_count": 6
  },
  {
   "metadata": {},
   "cell_type": "markdown",
   "source": "## Environment ",
   "id": "9af7c912b7c483b0"
  },
  {
   "metadata": {
    "ExecuteTime": {
     "end_time": "2024-04-12T00:44:51.498304Z",
     "start_time": "2024-04-12T00:44:51.491849Z"
    }
   },
   "cell_type": "code",
   "source": [
    "state_space = env.observation_space.n\n",
    "print(\"There are \", state_space, \" possible states\")\n",
    "\n",
    "action_space = env.action_space.n\n",
    "print(\"There are \", action_space, \" possible actions\")"
   ],
   "id": "ba85edc761672475",
   "outputs": [
    {
     "name": "stdout",
     "output_type": "stream",
     "text": [
      "There are  16  possible states\n",
      "There are  4  possible actions\n"
     ]
    }
   ],
   "execution_count": 7
  },
  {
   "metadata": {
    "ExecuteTime": {
     "end_time": "2024-04-12T00:44:51.505062Z",
     "start_time": "2024-04-12T00:44:51.499580Z"
    }
   },
   "cell_type": "code",
   "source": [
    "# Let's create our Qtable of size (state_space, action_space) and initialized each values at 0 using np.zeros\n",
    "def initialize_q_table(state_space, action_space):\n",
    "    Qtable = np.zeros((state_space, action_space))\n",
    "    return Qtable"
   ],
   "id": "d6e5a4f6fbd5d0d6",
   "outputs": [],
   "execution_count": 8
  },
  {
   "metadata": {
    "ExecuteTime": {
     "end_time": "2024-04-12T00:44:51.512431Z",
     "start_time": "2024-04-12T00:44:51.506263Z"
    }
   },
   "cell_type": "code",
   "source": "Qtable_frozenlake = initialize_q_table(state_space, action_space)",
   "id": "43b94d0ea7095eea",
   "outputs": [],
   "execution_count": 9
  },
  {
   "metadata": {},
   "cell_type": "markdown",
   "source": "## Agent",
   "id": "e4e220b0ea2a0f9e"
  },
  {
   "metadata": {
    "ExecuteTime": {
     "end_time": "2024-04-12T00:44:51.519895Z",
     "start_time": "2024-04-12T00:44:51.513568Z"
    }
   },
   "cell_type": "code",
   "source": [
    "def greedy_policy(Qtable, state):\n",
    "    # Exploitation: take the action with the highest state, action value\n",
    "    action = np.argmax(Qtable[state][:])\n",
    "\n",
    "    return action"
   ],
   "id": "75d9935b20b09379",
   "outputs": [],
   "execution_count": 10
  },
  {
   "metadata": {
    "ExecuteTime": {
     "end_time": "2024-04-12T00:44:51.528575Z",
     "start_time": "2024-04-12T00:44:51.520969Z"
    }
   },
   "cell_type": "code",
   "source": [
    "def epsilon_greedy_policy(Qtable, state, epsilon):\n",
    "    # Randomly generate a number between 0 and 1\n",
    "    random_num = random.uniform(0, 1)\n",
    "    # if random_num > greater than epsilon --> exploitation\n",
    "    if random_num > epsilon:\n",
    "        # Take the action with the highest value given a state\n",
    "        # np.argmax can be useful here\n",
    "        action = greedy_policy(Qtable, state)\n",
    "    # else --> exploration\n",
    "    else:\n",
    "        action = env.action_space.sample()\n",
    "\n",
    "    return action"
   ],
   "id": "1fb812466d21a018",
   "outputs": [],
   "execution_count": 11
  },
  {
   "metadata": {},
   "cell_type": "markdown",
   "source": "## Training",
   "id": "32d1b09aab522eae"
  },
  {
   "metadata": {
    "ExecuteTime": {
     "end_time": "2024-04-12T00:44:51.536186Z",
     "start_time": "2024-04-12T00:44:51.529468Z"
    }
   },
   "cell_type": "code",
   "source": [
    "def train(n_training_episodes, min_epsilon, max_epsilon, decay_rate, env, max_steps, Qtable):\n",
    "    for episode in tqdm(range(n_training_episodes)):\n",
    "        # Reduce epsilon (because we need less and less exploration)\n",
    "        epsilon = min_epsilon + (max_epsilon - min_epsilon) * np.exp(-decay_rate * episode)\n",
    "        # Reset the environment\n",
    "        state, info = env.reset()\n",
    "        step = 0\n",
    "        terminated = False\n",
    "        truncated = False\n",
    "\n",
    "        # repeat\n",
    "        for step in range(max_steps):\n",
    "            # Choose the action At using epsilon greedy policy\n",
    "            action = epsilon_greedy_policy(Qtable, state, epsilon)\n",
    "\n",
    "            # Take action At and observe Rt+1 and St+1\n",
    "            # Take the action (a) and observe the outcome state(s') and reward (r)\n",
    "            new_state, reward, terminated, truncated, info = env.step(action)\n",
    "\n",
    "            # Update Q(s,a):= Q(s,a) + lr [R(s,a) + gamma * max Q(s',a') - Q(s,a)]\n",
    "            Qtable[state][action] = Qtable[state][action] + learning_rate * (\n",
    "                reward + gamma * np.max(Qtable[new_state]) - Qtable[state][action]\n",
    "            )\n",
    "\n",
    "            # If terminated or truncated finish the episode\n",
    "            if terminated or truncated:\n",
    "                break\n",
    "\n",
    "            # Our next state is the new state\n",
    "            state = new_state\n",
    "    return Qtable"
   ],
   "id": "add7fb4675a9e983",
   "outputs": [],
   "execution_count": 12
  },
  {
   "metadata": {
    "ExecuteTime": {
     "end_time": "2024-04-12T00:44:51.623919Z",
     "start_time": "2024-04-12T00:44:51.537244Z"
    }
   },
   "cell_type": "code",
   "source": "Qtable_frozenlake = train(n_training_episodes, min_epsilon, max_epsilon, decay_rate, env, max_steps, Qtable_frozenlake)",
   "id": "fb0d2e08a4035f39",
   "outputs": [
    {
     "ename": "TypeError",
     "evalue": "'module' object is not callable",
     "output_type": "error",
     "traceback": [
      "\u001B[0;31m---------------------------------------------------------------------------\u001B[0m",
      "\u001B[0;31mTypeError\u001B[0m                                 Traceback (most recent call last)",
      "Cell \u001B[0;32mIn[13], line 1\u001B[0m\n\u001B[0;32m----> 1\u001B[0m Qtable_frozenlake \u001B[38;5;241m=\u001B[39m \u001B[43mtrain\u001B[49m\u001B[43m(\u001B[49m\u001B[43mn_training_episodes\u001B[49m\u001B[43m,\u001B[49m\u001B[43m \u001B[49m\u001B[43mmin_epsilon\u001B[49m\u001B[43m,\u001B[49m\u001B[43m \u001B[49m\u001B[43mmax_epsilon\u001B[49m\u001B[43m,\u001B[49m\u001B[43m \u001B[49m\u001B[43mdecay_rate\u001B[49m\u001B[43m,\u001B[49m\u001B[43m \u001B[49m\u001B[43menv\u001B[49m\u001B[43m,\u001B[49m\u001B[43m \u001B[49m\u001B[43mmax_steps\u001B[49m\u001B[43m,\u001B[49m\u001B[43m \u001B[49m\u001B[43mQtable_frozenlake\u001B[49m\u001B[43m)\u001B[49m\n",
      "Cell \u001B[0;32mIn[12], line 2\u001B[0m, in \u001B[0;36mtrain\u001B[0;34m(n_training_episodes, min_epsilon, max_epsilon, decay_rate, env, max_steps, Qtable)\u001B[0m\n\u001B[1;32m      1\u001B[0m \u001B[38;5;28;01mdef\u001B[39;00m \u001B[38;5;21mtrain\u001B[39m(n_training_episodes, min_epsilon, max_epsilon, decay_rate, env, max_steps, Qtable):\n\u001B[0;32m----> 2\u001B[0m     \u001B[38;5;28;01mfor\u001B[39;00m episode \u001B[38;5;129;01min\u001B[39;00m \u001B[43mtqdm\u001B[49m\u001B[43m(\u001B[49m\u001B[38;5;28;43mrange\u001B[39;49m\u001B[43m(\u001B[49m\u001B[43mn_training_episodes\u001B[49m\u001B[43m)\u001B[49m\u001B[43m)\u001B[49m:\n\u001B[1;32m      3\u001B[0m         \u001B[38;5;66;03m# Reduce epsilon (because we need less and less exploration)\u001B[39;00m\n\u001B[1;32m      4\u001B[0m         epsilon \u001B[38;5;241m=\u001B[39m min_epsilon \u001B[38;5;241m+\u001B[39m (max_epsilon \u001B[38;5;241m-\u001B[39m min_epsilon) \u001B[38;5;241m*\u001B[39m np\u001B[38;5;241m.\u001B[39mexp(\u001B[38;5;241m-\u001B[39mdecay_rate \u001B[38;5;241m*\u001B[39m episode)\n\u001B[1;32m      5\u001B[0m         \u001B[38;5;66;03m# Reset the environment\u001B[39;00m\n",
      "\u001B[0;31mTypeError\u001B[0m: 'module' object is not callable"
     ]
    }
   ],
   "execution_count": 13
  },
  {
   "metadata": {},
   "cell_type": "code",
   "source": "Qtable_frozenlake",
   "id": "adfeb75a2579baec",
   "outputs": [],
   "execution_count": null
  },
  {
   "metadata": {},
   "cell_type": "markdown",
   "source": "## Evaluation",
   "id": "c969d55e4ce75815"
  },
  {
   "metadata": {},
   "cell_type": "code",
   "source": [
    "def evaluate_agent(env, max_steps, n_eval_episodes, Q, seed):\n",
    "    \"\"\"\n",
    "    Evaluate the agent for ``n_eval_episodes`` episodes and returns average reward and std of reward.\n",
    "    :param env: The evaluation environment\n",
    "    :param n_eval_episodes: Number of episode to evaluate the agent\n",
    "    :param Q: The Q-table\n",
    "    :param seed: The evaluation seed array (for taxi-v3)\n",
    "    \"\"\"\n",
    "    episode_rewards = []\n",
    "    for episode in tqdm(range(n_eval_episodes)):\n",
    "        if seed:\n",
    "            state, info = env.reset(seed=seed[episode])\n",
    "        else:\n",
    "            state, info = env.reset()\n",
    "        step = 0\n",
    "        truncated = False\n",
    "        terminated = False\n",
    "        total_rewards_ep = 0\n",
    "\n",
    "        for step in range(max_steps):\n",
    "            # Take the action (index) that have the maximum expected future reward given that state\n",
    "            action = greedy_policy(Q, state)\n",
    "            new_state, reward, terminated, truncated, info = env.step(action)\n",
    "            total_rewards_ep += reward\n",
    "\n",
    "            if terminated or truncated:\n",
    "                break\n",
    "            state = new_state\n",
    "        episode_rewards.append(total_rewards_ep)\n",
    "    mean_reward = np.mean(episode_rewards)\n",
    "    std_reward = np.std(episode_rewards)\n",
    "\n",
    "    return mean_reward, std_reward"
   ],
   "id": "32c04105a8a8faa4",
   "outputs": [],
   "execution_count": null
  },
  {
   "metadata": {},
   "cell_type": "code",
   "source": [
    "# Evaluate our Agent\n",
    "mean_reward, std_reward = evaluate_agent(env, max_steps, n_eval_episodes, Qtable_frozenlake, eval_seed)"
   ],
   "id": "feb18f8ad07f1752",
   "outputs": [],
   "execution_count": null
  },
  {
   "metadata": {},
   "cell_type": "code",
   "source": "print(f\"Mean_reward={mean_reward:.2f} +/- {std_reward:.2f}\")",
   "id": "990fd5d8f54861a0",
   "outputs": [],
   "execution_count": null
  },
  {
   "metadata": {},
   "cell_type": "markdown",
   "source": "## Video",
   "id": "11e2a19ced9c7e1f"
  },
  {
   "metadata": {},
   "cell_type": "code",
   "source": [
    "# Reset the environment\n",
    "observation, info = env.reset()\n",
    "\n",
    "frames = []\n",
    "for _ in range (100):\n",
    "    frames.append(env.render()) # Render the environment\n",
    "    \n",
    "    # Take the action that have the maximum expected future reward given that state\n",
    "    action = greedy_policy(Qtable_frozenlake, observation)\n",
    "    #print(f\"Action: {action}\")\n",
    "    \n",
    "    # Do this action in the environment and get\n",
    "    # next_state, reward, terminated, truncated and info\n",
    "    observation, reward, terminated, truncated, info = env.step(action)\n",
    "    #print(f\"Reward: {reward}\")\n",
    "    \n",
    "    # If the game is terminated (in our case we land, crashed) or truncated (timeout)\n",
    "    if terminated or truncated:\n",
    "        # Reset the environment\n",
    "        #print(\"Game terminated. Resetting the environment\")\n",
    "        observation, info = env.reset()\n",
    "            \n",
    "env.close()\n",
    "\n",
    "video_path = f\"{env_id}-trained.mp4\"\n",
    "imageio.mimsave(video_path, frames, fps=fps)  # Save frames as video"
   ],
   "id": "40bb8fe1b4e158cd",
   "outputs": [],
   "execution_count": null
  },
  {
   "metadata": {},
   "cell_type": "markdown",
   "source": "## Push to Hub",
   "id": "eec97410a0343b55"
  },
  {
   "metadata": {},
   "cell_type": "code",
   "source": [
    "## Define the commit message\n",
    "commit_message = \"Upload Q-Learning FrozenLake-v1 trained agent\"\n",
    "\n",
    "# Create the evaluation env and set the render_mode=\"rgb_array\"\n",
    "eval_env = DummyVecEnv([lambda: Monitor(gym.make(env_id, render_mode=\"rgb_array\"))])\n",
    "\n",
    "# PLACE the package_to_hub function you've just filled here\n",
    "package_to_hub(\n",
    "    model=model,  # Our trained model\n",
    "    model_name=f\"{model_architecture}-{env_id}\",  # The name of our trained model\n",
    "    model_architecture=model_architecture,  # The model architecture\n",
    "    env_id=env_id,  # Name of the environment\n",
    "    eval_env=eval_env,  # Evaluation Environment\n",
    "    repo_id=repo_id,  # id of the model repository from the Hugging Face Hub (repo_id = {organization}/{repo_name}\n",
    "    commit_message=commit_message,\n",
    ")"
   ],
   "id": "8feb239c63e8a2ed",
   "outputs": [],
   "execution_count": null
  }
 ],
 "metadata": {
  "kernelspec": {
   "display_name": "Python 3",
   "language": "python",
   "name": "python3"
  },
  "language_info": {
   "codemirror_mode": {
    "name": "ipython",
    "version": 2
   },
   "file_extension": ".py",
   "mimetype": "text/x-python",
   "name": "python",
   "nbconvert_exporter": "python",
   "pygments_lexer": "ipython2",
   "version": "2.7.6"
  }
 },
 "nbformat": 4,
 "nbformat_minor": 5
}
